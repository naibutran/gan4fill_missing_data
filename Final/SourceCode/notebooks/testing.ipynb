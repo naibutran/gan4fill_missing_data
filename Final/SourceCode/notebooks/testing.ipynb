{
  "cells": [
    {
      "cell_type": "markdown",
      "metadata": {
        "id": "hP5i0T2yG-UJ"
      },
      "source": [
        "#Libs and utils"
      ]
    },
    {
      "cell_type": "code",
      "execution_count": 2,
      "metadata": {
        "colab": {
          "base_uri": "https://localhost:8080/"
        },
        "id": "fNhDYkLcJrUr",
        "outputId": "d1d25c17-b03e-46dd-80e4-8c2d3923c421"
      },
      "outputs": [
        {
          "name": "stdout",
          "output_type": "stream",
          "text": [
            "e:\\projects\\data_visualization\\gan_imputation\\utils\n"
          ]
        }
      ],
      "source": [
        "# %cd /content/drive/MyDrive/Dataset/DS105/Project/Codes/utils/\n",
        "%cd ../utils/\n",
        "import deterioration as imp"
      ]
    },
    {
      "cell_type": "code",
      "execution_count": null,
      "metadata": {
        "id": "4JQQP2KDxCUm"
      },
      "outputs": [],
      "source": [
        "import pandas as pd\n",
        "import numpy as np\n",
        "from keras.models import Sequential, Model\n",
        "from keras.layers import Dense\n",
        "from keras.layers import Flatten\n",
        "from keras.layers import Dropout, Input, LSTM, GRU, Multiply, Lambda, RNN, Bidirectional\n",
        "from keras.layers.convolutional import MaxPooling1D\n",
        "from keras.utils import to_categorical\n",
        "from keras.layers import *\n",
        "import matplotlib.pyplot as plt  \n",
        "import os\n",
        "from keras.optimizers import Adam\n",
        "import tqdm \n",
        "from keras import backend as K\n",
        "from keras.utils import plot_model\n",
        "from IPython.display import clear_output\n",
        "from sklearn.impute import SimpleImputer\n",
        "from sklearn.impute import KNNImputer"
      ]
    },
    {
      "cell_type": "markdown",
      "metadata": {
        "id": "HOUtHg7-HL5m"
      },
      "source": [
        "# Functions"
      ]
    },
    {
      "cell_type": "code",
      "execution_count": null,
      "metadata": {
        "id": "CSY4GrsOJH5-"
      },
      "outputs": [],
      "source": [
        "def adam_optimizer(alpha):\n",
        "  return Adam(lr=alpha)\n",
        "\n",
        "def create_generator(adam, timesteps, features):\n",
        "  #-------------------------------------------------------------\n",
        "  #units là số lượng phần tử trong sequence (timestep),\n",
        "  input1 = Input((timesteps, features,))   #Đầu vào 1 là ma trận bị missing value\n",
        "  mask = Input((timesteps, features,))  #Đầu vào thứ 2 là ma trận mask\n",
        "  gru = Bidirectional(GRU(units = features, return_sequences=True))(input1)   \n",
        "  gru1 = GRU(units = features, return_sequences=True)(gru)  #GRU nối với input1 để tạo ra ma trận mới, qua sigmoid nên sẽ nằm trong (0,1)\n",
        "  gru2 = GRU(units = features, return_sequences=True, activation = \"sigmoid\")(gru1)\n",
        "  lambda_ouput = Lambda(lambda x: (x * range_matrix) + min_matrix)(gru2) #Cái này để scale (0,1) thành trong (min,max) nè\n",
        "  filled = Multiply()([lambda_ouput, mask]) #Nhân ma trận đã được điền khuyết bởi GRU (LSTM, RNN) với ma trận mask (ma trận này chỉ tồn tại giá trị được điền khuyết)\n",
        "  final = Add()([input1, filled])  #Cuối cùng cộng ma trận ban đầu (input1) với ma trận chỉ tồn tại giá trị được điền khuyết (filled), nhằm tạo ra ma trận đã được điền khuyết\n",
        "\n",
        "  model = Model(inputs = [input1,mask], outputs = final)\n",
        "  #-------------------------------------------------------------\n",
        "  # input1 = Input((timesteps, features,))   #Đầu vào 1 là ma trận bị missing value\n",
        "  # mask = Input((timesteps, features,))  #Đầu vào thứ 2 là ma trận mask\n",
        "  # gru = LSTM(units = features, return_sequences=True)(input1)   \n",
        "  # # gru1 = GRU(units = features, return_sequences=True)(gru)  #GRU nối với input1 để tạo ra ma trận mới, qua sigmoid nên sẽ nằm trong (0,1)\n",
        "  # # gru2 = GRU(units = features, return_sequences=True, activation = \"sigmoid\")(gru1)\n",
        "  # # lambda_ouput = Lambda(lambda x: (x * range_matrix) + min_matrix)(gru2) #Cái này để scale (0,1) thành trong (min,max) nè\n",
        "  # # filled = Multiply()([lambda_ouput, mask]) #Nhân ma trận đã được điền khuyết bởi GRU (LSTM, RNN) với ma trận mask (ma trận này chỉ tồn tại giá trị được điền khuyết)\n",
        "  # # final = Add()([input1, filled])  #Cuối cùng cộng ma trận ban đầu (input1) với ma trận chỉ tồn tại giá trị được điền khuyết (filled), nhằm tạo ra ma trận đã được điền khuyết\n",
        "  \n",
        "  # model = Model(inputs = [input1,mask], outputs = gru)\n",
        "  #-------------------------------------------------------------\n",
        "\n",
        "  model.compile(loss='binary_crossentropy', optimizer=adam)\n",
        "  \n",
        "  return model\n",
        "\n",
        "#Discriminator \n",
        "def create_discriminator(adam, timesteps, features):\n",
        "  input = Input((timesteps, features,))\n",
        "  # conv1d = Conv1D(filters=20, kernel_size=1)(input)\n",
        "  gru = Bidirectional(GRU(units = features, return_sequences=True))(input)\n",
        "  # leaky = LeakyReLU(alpha=0.2)(conv1d)\n",
        "  leaky = LeakyReLU(alpha=0.2)(gru)\n",
        "  dropout = Dropout(0.5)(leaky)\n",
        "  flatten = Flatten()(dropout)\n",
        "  dense = Dense(1, activation='sigmoid')(flatten) \n",
        "  model = Model(inputs = input, outputs = dense)\n",
        "  model.compile(loss='binary_crossentropy', optimizer=adam, metrics=['accuracy'])\n",
        "  return model\n",
        "  \n",
        "#GAN\n",
        "def create_gan(discriminator, generator, adam):\n",
        "  discriminator.trainable=False\n",
        "\n",
        "  x = generator\n",
        "  gan_output = discriminator(x.output)\n",
        "\n",
        "  gan= Model(inputs=x.input, outputs=gan_output)\n",
        "\n",
        "  gan.compile(loss='binary_crossentropy', optimizer=adam)\n",
        "  return gan\n",
        "\n",
        "#Gán nhãn \n",
        "def gen_label(size, is_real=True, noise_ratio=0.1):\n",
        "  if is_real:\n",
        "    label = np.ones(size,)*1\n",
        "  else:\n",
        "    label = np.ones(size,)*0\n",
        "  return np.squeeze(label)\n",
        "\n",
        "# tạo input cho Generator\n",
        "def gen_z_input(batch_size, step, dset, dset_mask):\n",
        "  return [dset[step*batch_size:(step+1)*batch_size], dset_mask[step*batch_size:(step+1)*batch_size]]\n",
        "\n",
        "# tạo ra dset fake và label\n",
        "def gen_fake_batch(generator, batch_size, step, dset, dset_mask):\n",
        "  z = gen_z_input(batch_size, step, dset, dset_mask)\n",
        "  fake_dset = generator.predict(z)\n",
        "  fake_label = gen_label(batch_size, is_real=False)\n",
        "  return fake_dset, fake_label\n",
        "\n",
        "# tạo ra dset real và label\n",
        "def gen_real_batch(batch_size, step, dset):\n",
        "  real_dset = dset[step*batch_size:(step+1)*batch_size]\n",
        "  real_label = gen_label(batch_size, is_real=True)\n",
        "  return real_dset, real_label\n",
        "\n",
        "def calc_error(pred_matrix, true_matrix, mask_matrix):\n",
        "  missing_pred = np.multiply(pred_matrix, mask_matrix)\n",
        "  missing_true = np.multiply(true_matrix, mask_matrix)\n",
        "  #Normalize\n",
        "  norm_pred = ((missing_pred - min_matrix)/range_matrix)*mask_matrix\n",
        "  norm_true = ((missing_true - min_matrix)/range_matrix)*mask_matrix\n",
        "  num_mask = len(mask_matrix[mask_matrix == True])\n",
        "\n",
        "  error = np.sum(np.sqrt((norm_pred - norm_true)*(norm_pred - norm_true ))/ num_mask)\n",
        "  return error\n",
        "\n",
        "def fill(i,j, Xtest, Xreal, Pred, print_full):\n",
        "  missingpred = np.multiply(pred[j], Xtest[1][j])\n",
        "  missingtrue = np.multiply(Xreal[0][j], Xtest[1][j])\n",
        "  err = calc_error(pred[j], Xreal[0][j], Xtest[1][j])\n",
        "  #Đã normalize các biến thành (0,1), sau đó tính RMSE\n",
        "  print(\"Errors (Normalized): {}\".format(err))\n",
        "  print(\"------------------------------------------------------------------------------------\")\n",
        "  print(\"Boundery\")\n",
        "  print(pd.DataFrame(boundery))\n",
        "  print(\"------------------------------------------------------------------------------------\")\n",
        "  print('Dữ liệu missing được điền khuyết')\n",
        "  print(pd.DataFrame(missingpred).round(decimals = 2).replace(0,'-'))\n",
        "  print(\"------------------------------------------------------------------------------------\")\n",
        "  print(\"Dữ liệu missing thực tế\")\n",
        "  print(pd.DataFrame(missingtrue).replace(0,'-') )\n",
        "  print(\"------------------------------------------------------------------------------------\")\n",
        "  if(print_full == 1):\n",
        "    print(\"Dữ liệu gốc\")\n",
        "    print(pd.DataFrame(Xreal[0][j]))\n",
        "    print(\"------------------------------------------------------------------------------------\")\n",
        "    print('Dữ liệu đã được điền')\n",
        "    print(pd.DataFrame(Pred[j].round(decimals = 2)))\n",
        "    print(\"------------------------------------------------------------------------------------\")\n",
        "  return err\n",
        "\n",
        "def preprocess(dataframe, ratio_missing, lower, upper):\n",
        "  df = dataframe[[\"Temperature\",\"Relative_Humidity\",\"Specific_Humidity\",\"Precipitation\",\"Pressure\",\"Wind_Speed\",\"Wind_Direction\"]]\n",
        "\n",
        "  params = {\"missing_value_ratio\": ratio_missing, \"prob_noise\": 0, \"missing_value_min_size\": 0,\"missing_value_max_size\": 5, \n",
        "            \"prob_noise\": 0.5, \"placeholder_value\": -0.1}\n",
        "  missing_df, mask = imp.apply(df, params)\n",
        "  missing = missing_df\n",
        "\n",
        "  boundery = np.array(missing.quantile([lower_quantile, upper_quantile]))\n",
        "  mask = np.array(mask.replace([False,True], [0,1]))\n",
        "  missing = np.array(missing.replace(np.nan, 0))\n",
        "\n",
        "  return missing_df, missing, boundery, mask\n",
        "\n",
        "def get_train_test(missing, dataframe, timesteps):\n",
        "  X = []\n",
        "  X_mask = []\n",
        "  for i in range(len(missing)-timesteps):\n",
        "    a_missing_sample = missing[i:i+timesteps]\n",
        "    a_mask_sample = mask[i:i+timesteps]\n",
        "    X.append(a_missing_sample)\n",
        "    X_mask.append(a_mask_sample)\n",
        "  X = np.stack(X)\n",
        "  X_mask = np.stack(X_mask)\n",
        "\n",
        "  X_real = []\n",
        "  for i in range(len(np.array(dataframe[[\"Temperature\",\"Relative_Humidity\",\"Specific_Humidity\",\"Precipitation\",\"Pressure\",\"Wind_Speed\",\"Wind_Direction\"]]))-timesteps):\n",
        "    a_real_sample = np.array(dataframe[[\"Temperature\",\"Relative_Humidity\",\"Specific_Humidity\",\"Precipitation\",\"Pressure\",\"Wind_Speed\",\"Wind_Direction\"]])[i:i+timesteps]\n",
        "    X_real.append(a_real_sample)\n",
        "  X_real = np.stack(X_real)\n",
        "\n",
        "  #---------------------------------------------------\n",
        "  X_train = X[0:int(len(X)*0.8)]\n",
        "  X_test = X[int(len(X)*0.8):len(X)]\n",
        "\n",
        "  X_train_real = X[0:int(len(X_real)*0.8)]\n",
        "  X_test_real = X_real[int(len(X_real)*0.8):len(X_real)]\n",
        "\n",
        "  X_mask_train = X_mask[0:int(len(X_mask)*0.8)]\n",
        "  X_mask_test = X_mask[int(len(X_mask)*0.8):len(X_mask)]\n",
        "\n",
        "  return X, X_real, X_train, X_test, X_train_real, X_test_real, X_mask_train, X_mask_test\n",
        "\n",
        "def get_min_max_range_matrix(boundery, timesteps):\n",
        "  min_matrix = np.array([boundery[0] for i in range(timesteps)])\n",
        "  max_matrix = np.array([boundery[1] for i in range(timesteps)])\n",
        "  range_matrix = np.array([[boundery[1][i] - boundery[0][i] for i in range(boundery.shape[1])] for j in range(timesteps)])\n",
        "\n",
        "  return min_matrix, max_matrix, range_matrix\n",
        "\n",
        "def training(GAN_model, discriminator, generator, X_train_real, X_train, X_mask_train, epochs):\n",
        "  for i in range(epochs):\n",
        "    count = 0\n",
        "    global num_epoch\n",
        "    num_epoch+=1\n",
        "    for step in tqdm.tqdm(range(step_per_epoch), desc =\"Epoch: {}\".format(num_epoch)):\n",
        "      real_data, real_label = gen_real_batch(batch_size, count, X_train_real) \n",
        "\n",
        "      z_input, mask_input = gen_z_input(batch_size, count, X_train, X_mask_train)\n",
        "\n",
        "      fake_data = generator.predict([z_input, mask_input]) \n",
        "      fake_label = gen_label(batch_size, is_real=False)\n",
        "\n",
        "      discriminator.trainable=True\n",
        "      discriminator.train_on_batch(real_data, real_label)\n",
        "      discriminator.train_on_batch(fake_data, fake_label)\n",
        "      \n",
        "      discriminator.trainable=False\n",
        "      gan_fake_label = gen_label(batch_size, is_real=True)\n",
        "      GAN_model.train_on_batch([z_input, mask_input], gan_fake_label)\n",
        "      clear_output(wait=True)\n",
        "      count += 1"
      ]
    },
    {
      "cell_type": "markdown",
      "metadata": {
        "id": "qHBI21RSMBbW"
      },
      "source": [
        "# Go"
      ]
    },
    {
      "cell_type": "markdown",
      "metadata": {
        "id": "s-p7bZUwDSPJ"
      },
      "source": [
        "Chọn bộ siêu tham số"
      ]
    },
    {
      "cell_type": "code",
      "execution_count": null,
      "metadata": {
        "id": "4y39dJPSDx3w"
      },
      "outputs": [],
      "source": [
        "missing_ratio = 0.7\n",
        "#percential\n",
        "lower_quantile = 0 \n",
        "upper_quantile = 1\n",
        "\n",
        "timesteps = 10\n",
        "features = 7 # luôn là 7 nha =)))\n",
        "batch_size = 8\n",
        "\n",
        "lrate = 0.00001 #0.0000789\n",
        "epochs= 1\n",
        "num_epoch = 0 "
      ]
    },
    {
      "cell_type": "markdown",
      "metadata": {
        "id": "fTmiunPkBC8x"
      },
      "source": [
        "Chuẩn bị các ma trận cần thiết"
      ]
    },
    {
      "cell_type": "code",
      "execution_count": null,
      "metadata": {
        "id": "l-uuocJj0uk0"
      },
      "outputs": [],
      "source": [
        "data = pd.read_csv(\"/content/drive/MyDrive/Dataset/DS105/Project/Dataset/DS304_Project_Dataset/5years.csv\")\n",
        "\n",
        "missing_df ,missing, boundery, mask = preprocess(data, missing_ratio, 0, 1)\n",
        "X, X_real, X_train, X_test, X_train_real, X_test_real, X_mask_train, X_mask_test = get_train_test(missing, data, timesteps)\n",
        "min_matrix, max_matrix, range_matrix = get_min_max_range_matrix(boundery, timesteps)"
      ]
    },
    {
      "cell_type": "markdown",
      "metadata": {
        "id": "G5abAOOIGr2V"
      },
      "source": [
        "GAN GRU"
      ]
    },
    {
      "cell_type": "code",
      "execution_count": null,
      "metadata": {
        "colab": {
          "base_uri": "https://localhost:8080/"
        },
        "id": "GjiB-xCZJNGI",
        "outputId": "423eac60-aed5-4eb6-9a7d-74856d738d31"
      },
      "outputs": [
        {
          "name": "stderr",
          "output_type": "stream",
          "text": [
            "/usr/local/lib/python3.7/dist-packages/keras/optimizers/optimizer_v2/adam.py:110: UserWarning: The `lr` argument is deprecated, use `learning_rate` instead.\n",
            "  super(Adam, self).__init__(name, **kwargs)\n"
          ]
        }
      ],
      "source": [
        "step_per_epoch = len(X_train)//batch_size - 1\n",
        "\n",
        "optimizer = adam_optimizer(lrate)\n",
        "generator = create_generator(optimizer, timesteps, features)\n",
        "discriminator = create_discriminator(optimizer, timesteps, features)\n",
        "GAN_model = create_gan(discriminator, generator, optimizer)"
      ]
    },
    {
      "cell_type": "code",
      "execution_count": null,
      "metadata": {
        "colab": {
          "base_uri": "https://localhost:8080/",
          "height": 865
        },
        "id": "WuS4ZMpOJqA7",
        "outputId": "aedcb845-d117-4256-81f3-81e218110195"
      },
      "outputs": [
        {
          "data": {
            "image/png": "[encoded data removed]",
            "text/plain": [
              "<IPython.core.display.Image object>"
            ]
          },
          "execution_count": 95,
          "metadata": {},
          "output_type": "execute_result"
        }
      ],
      "source": [
        "# plot_model(generator, show_shapes=True)\n",
        "# plot_model(discriminator, show_shapes=True) \n",
        "plot_model(GAN_model, show_shapes=True)"
      ]
    },
    {
      "cell_type": "markdown",
      "metadata": {
        "id": "WsFeMGovBQZ2"
      },
      "source": [
        "Training (mỗi lần chạy là 1 epoch)"
      ]
    },
    {
      "cell_type": "code",
      "execution_count": null,
      "metadata": {
        "colab": {
          "base_uri": "https://localhost:8080/"
        },
        "id": "IPd6uXKa55gP",
        "outputId": "f0c8e940-a87a-4fd1-a8bb-a3cadb30d01c"
      },
      "outputs": [
        {
          "name": "stderr",
          "output_type": "stream",
          "text": [
            "Epoch: 2: 100%|██████████| 180/180 [00:25<00:00,  7.00it/s]\n"
          ]
        }
      ],
      "source": [
        "training(GAN_model, discriminator, generator, X_train_real, X_train, X_mask_train, epochs)"
      ]
    },
    {
      "cell_type": "markdown",
      "metadata": {
        "id": "IMFEC_5b1wvo"
      },
      "source": [
        "Kiểm tra và đánh giá<br>\n",
        "* Chỗ nào bị mất là do thực tế là số 0 nên bị replace mất á =)))"
      ]
    },
    {
      "cell_type": "code",
      "execution_count": null,
      "metadata": {
        "colab": {
          "base_uri": "https://localhost:8080/"
        },
        "id": "HlcAe096k69a",
        "outputId": "1cec82fd-c89d-4185-8463-9301e6e17d92"
      },
      "outputs": [
        {
          "name": "stdout",
          "output_type": "stream",
          "text": [
            "1/1 [==============================] - 0s 27ms/step\n",
            "Errors (Normalized): 0.1956494298275858\n",
            "------------------------------------------------------------------------------------\n",
            "Boundery\n",
            "      0      1      2       3       4     5       6\n",
            "0  19.9  43.00   9.83    0.00   99.90  0.68   32.94\n",
            "1  33.7  95.31  20.87  143.31  100.95  7.05  343.56\n",
            "------------------------------------------------------------------------------------\n",
            "Dữ liệu missing được điền khuyết\n",
            "       0      1      2      3       4     5       6\n",
            "0      -      -      -      -       -     -       -\n",
            "1      -      -  13.87  58.06       -     -       -\n",
            "2  25.94  63.79  14.63      -       -     -       -\n",
            "3  26.66      -   15.0      -  100.41  3.75       -\n",
            "4      -  63.72  14.99      -       -     -       -\n",
            "5      -  64.52  14.66      -  100.46     -       -\n",
            "6      -      -      -      -       -     -       -\n",
            "7      -      -      -      -  100.49  4.24       -\n",
            "8      -  67.03  14.38      -       -  4.13  193.64\n",
            "9      -      -      -      -  100.48  4.13       -\n",
            "------------------------------------------------------------------------------------\n",
            "Dữ liệu missing thực tế\n",
            "       0      1      2  3       4     5       6\n",
            "0      -      -      -  -       -     -       -\n",
            "1      -      -  14.65  -       -     -       -\n",
            "2  23.82  78.06  14.22  -       -     -       -\n",
            "3  23.79      -   14.4  -  100.64  2.59       -\n",
            "4      -  76.19  12.02  -       -     -       -\n",
            "5      -  75.62  11.54  -  100.69     -       -\n",
            "6      -      -      -  -       -     -       -\n",
            "7      -      -      -  -  100.49  0.93       -\n",
            "8      -  79.94  14.34  -       -  2.02  187.62\n",
            "9      -      -      -  -  100.66  2.91       -\n",
            "------------------------------------------------------------------------------------\n"
          ]
        },
        {
          "data": {
            "text/plain": [
              "0.1956494298275858"
            ]
          },
          "execution_count": 94,
          "metadata": {},
          "output_type": "execute_result"
        }
      ],
      "source": [
        "i = 2 # batch thứ i (0, len(X_test)//batch_size) \n",
        "j = 0 # phần tử thứ j trong batch(0, batch_size - 1)\n",
        "x_test = gen_z_input(batch_size, i, X_test, X_mask_test)\n",
        "x_real = gen_z_input(batch_size, i, X_test_real, X_mask_test)\n",
        "pred = generator.predict(x_test)\n",
        "\n",
        "fill(i,j, x_test, x_real, pred, 0)"
      ]
    },
    {
      "cell_type": "code",
      "execution_count": null,
      "metadata": {
        "colab": {
          "base_uri": "https://localhost:8080/"
        },
        "id": "Bn-rSqjFj13C",
        "outputId": "3155a5e7-457b-499d-e0b1-fbc4304e40bc"
      },
      "outputs": [
        {
          "name": "stdout",
          "output_type": "stream",
          "text": [
            "Errors: 0.2800726073433352\n"
          ]
        }
      ],
      "source": [
        "scores = []\n",
        "for i in range(len(X_test)//batch_size):\n",
        "  x_test = gen_z_input(batch_size, i, X_test, X_mask_test)\n",
        "  x_real = gen_z_input(batch_size, i, X_test_real, X_mask_test)\n",
        "  pred = generator.predict(x_test, verbose=0)\n",
        "  for j in range(batch_size):\n",
        "    scores.append(calc_error(pred[j], x_real[0][j], x_test[1][j]))\n",
        "\n",
        "errors = np.mean(np.array(scores))\n",
        "print('Errors:',errors)"
      ]
    },
    {
      "cell_type": "markdown",
      "metadata": {
        "id": "7S44jn1KybWU"
      },
      "source": [
        "# Điền khuyết truyền thống và GAN"
      ]
    },
    {
      "cell_type": "markdown",
      "metadata": {
        "id": "-XbUqiUW0fFO"
      },
      "source": [
        "Mean, median, mode<br>\n",
        "['mean', 'median', 'most_frequent', 'constant']"
      ]
    },
    {
      "cell_type": "code",
      "execution_count": null,
      "metadata": {
        "id": "TTqQ9ZibAdBG"
      },
      "outputs": [],
      "source": [
        "full_dset = np.array(data[[\"Temperature\",\"Relative_Humidity\",\"Specific_Humidity\",\"Precipitation\",\"Pressure\",\"Wind_Speed\",\"Wind_Direction\"]])"
      ]
    },
    {
      "cell_type": "code",
      "execution_count": null,
      "metadata": {
        "colab": {
          "base_uri": "https://localhost:8080/"
        },
        "id": "Cvp3keXG_1nx",
        "outputId": "8f60ae40-a110-4c1d-c001-9598be61bcf6"
      },
      "outputs": [
        {
          "data": {
            "text/plain": [
              "0.1426478177888486"
            ]
          },
          "execution_count": 25,
          "metadata": {},
          "output_type": "execute_result"
        }
      ],
      "source": [
        "imputer_type = 'mean'\n",
        "\n",
        "if(imputer_type != 'knn'):\n",
        "  imputer = SimpleImputer(missing_values=np.nan, strategy=imputer_type)\n",
        "  imputer = imputer.fit(missing_df)\n",
        "else:\n",
        "  imputer = KNNImputer()\n",
        "  imputer = imputer.fit(missing_df)\n",
        "\n",
        "normal_fill = imputer.transform(missing_df)\n",
        "\n",
        "errors_normal = []\n",
        "for i in range(len(missing_df)//timesteps):\n",
        "  start = i*timesteps\n",
        "  end = start + timesteps\n",
        "  err = calc_error(normal_fill[start:end], full_dset[start:end], mask[start:end])\n",
        "  errors_normal.append(err)\n",
        "np.mean(np.array(errors_normal))"
      ]
    },
    {
      "cell_type": "markdown",
      "metadata": {
        "id": "gnvQHBHuAKtp"
      },
      "source": [
        "GANImputer"
      ]
    },
    {
      "cell_type": "code",
      "execution_count": null,
      "metadata": {
        "colab": {
          "base_uri": "https://localhost:8080/"
        },
        "id": "MOqk2sth6yrf",
        "outputId": "dd9f4c0a-587a-45b5-d459-602f51910583"
      },
      "outputs": [
        {
          "data": {
            "text/plain": [
              "0.2752704928801805"
            ]
          },
          "execution_count": 92,
          "metadata": {},
          "output_type": "execute_result"
        }
      ],
      "source": [
        "errors_gan = []\n",
        "for i in range(len(missing_df)//timesteps):\n",
        "  start = i*timesteps\n",
        "  end = start + timesteps\n",
        "  err = calc_error( generator.predict( [ missing[start:end].reshape(1,timesteps, features), mask[start:end].reshape(1,timesteps,features) ] , verbose = 0), \n",
        "                   full_dset[start:end], mask[start:end])\n",
        "  errors_gan.append(err)\n",
        "np.mean(np.array(errors_gan))"
      ]
    }
  ],
  "metadata": {
    "colab": {
      "provenance": [],
      "toc_visible": true
    },
    "kernelspec": {
      "display_name": "Python 3.9.13 ('venv': venv)",
      "language": "python",
      "name": "python3"
    },
    "language_info": {
      "codemirror_mode": {
        "name": "ipython",
        "version": 3
      },
      "file_extension": ".py",
      "mimetype": "text/x-python",
      "name": "python",
      "nbconvert_exporter": "python",
      "pygments_lexer": "ipython3",
      "version": "3.9.13"
    },
    "vscode": {
      "interpreter": {
        "hash": "28cead2391441b0970f17f0940c085e9fd6fc373e142763dd3da83cfb912bf97"
      }
    }
  },
  "nbformat": 4,
  "nbformat_minor": 0
}
